{
 "cells": [
  {
   "cell_type": "markdown",
   "metadata": {},
   "source": [
    "<h1>预测工资</h1>\n",
    "\n",
    "既然我们有了拉勾的数据，我们可以用它来耍耍，预测一下工资。\n",
    "\n",
    "\n",
    "<h3>1、对工资进行转换</h3>\n",
    "\n",
    "在这之前先导入模块并读入文件，不仅有训练数据文件，还有一组自拟的测试数据文件。"
   ]
  },
  {
   "cell_type": "code",
   "execution_count": 1,
   "metadata": {},
   "outputs": [
    {
     "data": {
      "text/plain": [
       "((450, 3), (24, 2))"
      ]
     },
     "execution_count": 1,
     "metadata": {},
     "output_type": "execute_result"
    }
   ],
   "source": [
    "import pandas as pd\n",
    "import numpy as np\n",
    "import matplotlib.pyplot as plt\n",
    "\n",
    "train_file = \"analyst.csv\"\n",
    "test_file = \"test.csv\"\n",
    "# 读取文件获得数据\n",
    "train_data = pd.read_csv(train_file, encoding=\"gbk\")\n",
    "train_data = train_data.drop('ID', axis=1)\n",
    "\n",
    "test_data = pd.read_csv(test_file, encoding=\"gbk\")\n",
    "train_data.shape, test_data.shape\n",
    "# data['薪资'].value_counts()"
   ]
  },
  {
   "cell_type": "markdown",
   "metadata": {},
   "source": [
    "为了更好地进行分析，我们要对薪资做一个预处理。由于其分布比较散乱，很多值的个数只有1。为了不造成过大的误差，根据其分布情况，可以将它分成【5k 以下、5k-10k、10k-20k、20k-30k、30k-40k、40k 以上】，为了更加方便我们分析，取每个薪资范围的中位数，并划分到我们指定的范围内。"
   ]
  },
  {
   "cell_type": "code",
   "execution_count": 2,
   "metadata": {},
   "outputs": [
    {
     "data": {
      "text/html": [
       "<div>\n",
       "<style scoped>\n",
       "    .dataframe tbody tr th:only-of-type {\n",
       "        vertical-align: middle;\n",
       "    }\n",
       "\n",
       "    .dataframe tbody tr th {\n",
       "        vertical-align: top;\n",
       "    }\n",
       "\n",
       "    .dataframe thead th {\n",
       "        text-align: right;\n",
       "    }\n",
       "</style>\n",
       "<table border=\"1\" class=\"dataframe\">\n",
       "  <thead>\n",
       "    <tr style=\"text-align: right;\">\n",
       "      <th></th>\n",
       "      <th>学历要求</th>\n",
       "      <th>工作经验</th>\n",
       "      <th>薪资</th>\n",
       "    </tr>\n",
       "  </thead>\n",
       "  <tbody>\n",
       "    <tr>\n",
       "      <th>0</th>\n",
       "      <td>大专</td>\n",
       "      <td>3-5年</td>\n",
       "      <td>10k-20k</td>\n",
       "    </tr>\n",
       "    <tr>\n",
       "      <th>1</th>\n",
       "      <td>本科</td>\n",
       "      <td>3-5年</td>\n",
       "      <td>10k-20k</td>\n",
       "    </tr>\n",
       "    <tr>\n",
       "      <th>2</th>\n",
       "      <td>本科</td>\n",
       "      <td>不限</td>\n",
       "      <td>5k-10k</td>\n",
       "    </tr>\n",
       "    <tr>\n",
       "      <th>3</th>\n",
       "      <td>本科</td>\n",
       "      <td>5-10年</td>\n",
       "      <td>30k-40k</td>\n",
       "    </tr>\n",
       "    <tr>\n",
       "      <th>4</th>\n",
       "      <td>本科</td>\n",
       "      <td>3-5年</td>\n",
       "      <td>30k-40k</td>\n",
       "    </tr>\n",
       "  </tbody>\n",
       "</table>\n",
       "</div>"
      ],
      "text/plain": [
       "  学历要求   工作经验       薪资\n",
       "0   大专   3-5年  10k-20k\n",
       "1   本科   3-5年  10k-20k\n",
       "2   本科     不限   5k-10k\n",
       "3   本科  5-10年  30k-40k\n",
       "4   本科   3-5年  30k-40k"
      ]
     },
     "execution_count": 2,
     "metadata": {},
     "output_type": "execute_result"
    }
   ],
   "source": [
    "salarys = train_data['薪资'].unique()     # 获取到薪资的不同值\n",
    "for salary in salarys:\n",
    "    # 根据'-'进行分割并去掉'k',分别将两端的值转换成整数\n",
    "    min_sa = int(salary.split('-')[0][:-1])\n",
    "    max_sa = int(salary.split('-')[1][:-1])\n",
    "    # 求中位数\n",
    "    median_sa = (min_sa + max_sa) / 2\n",
    "    # 判断其值并划分到指定范围\n",
    "    if median_sa < 5:\n",
    "        train_data.replace(salary, '5k以下', inplace=True)\n",
    "    elif median_sa >= 5 and median_sa < 10:\n",
    "        train_data.replace(salary, '5k-10k', inplace=True)\n",
    "    elif median_sa >= 10 and median_sa < 20:\n",
    "        train_data.replace(salary, '10k-20k', inplace=True)\n",
    "    elif median_sa >= 20 and median_sa < 30:\n",
    "        train_data.replace(salary, '20k-30k', inplace=True)\n",
    "    elif median_sa >= 30 and median_sa < 40:\n",
    "        train_data.replace(salary, '30k-40k', inplace=True)\n",
    "    else:\n",
    "        train_data.replace(salary, '40k以上', inplace=True)\n",
    "train_data.head()"
   ]
  },
  {
   "cell_type": "markdown",
   "metadata": {},
   "source": [
    "处理完成后，我们可以将“薪资”单独提取出来当作训练集的 label。"
   ]
  },
  {
   "cell_type": "code",
   "execution_count": 3,
   "metadata": {},
   "outputs": [],
   "source": [
    "y_train = train_data.pop('薪资').values"
   ]
  },
  {
   "cell_type": "markdown",
   "metadata": {},
   "source": [
    "<h3>2、对变量进行转换</h3>\n",
    "\n",
    "<h4>把category的变量转变成numerical表达式</h4>\n",
    "\n",
    "由于变量都不是numerical变量，在训练的时候计算机没办法识别，因此要对它们进行转换。\n",
    "\n",
    "当我们用numerical来表达categorical的时候，要注意，数字本身有大小的含义，所以乱用数字会给之后的模型学习带来麻烦。于是我们可以用One-Hot的方法来表达category。\n",
    "\n",
    "pandas自带的get_dummies方法，可以一键做到One-Hot。\n",
    "\n",
    "这里按我的理解解释一下One-Hot：比如说data['学历要求']有'大专', '本科', '硕士', '不限'。但data['学历要求']=='本科'，则他可以用字典表示成这样{'大专': 0, '本科':1, '硕士':0, '不限':0}，用向量表示为[0, 1, 0, 0]\n",
    "\n",
    "在此之前，将测试集和训练集组合起来一起处理，稍微方便一点。"
   ]
  },
  {
   "cell_type": "code",
   "execution_count": 4,
   "metadata": {},
   "outputs": [
    {
     "data": {
      "text/plain": [
       "(474, 2)"
      ]
     },
     "execution_count": 4,
     "metadata": {},
     "output_type": "execute_result"
    }
   ],
   "source": [
    "data = pd.concat((train_data, test_data), axis=0)\n",
    "data.shape"
   ]
  },
  {
   "cell_type": "code",
   "execution_count": 5,
   "metadata": {},
   "outputs": [
    {
     "data": {
      "text/html": [
       "<div>\n",
       "<style scoped>\n",
       "    .dataframe tbody tr th:only-of-type {\n",
       "        vertical-align: middle;\n",
       "    }\n",
       "\n",
       "    .dataframe tbody tr th {\n",
       "        vertical-align: top;\n",
       "    }\n",
       "\n",
       "    .dataframe thead th {\n",
       "        text-align: right;\n",
       "    }\n",
       "</style>\n",
       "<table border=\"1\" class=\"dataframe\">\n",
       "  <thead>\n",
       "    <tr style=\"text-align: right;\">\n",
       "      <th></th>\n",
       "      <th>学历要求_不限</th>\n",
       "      <th>学历要求_大专</th>\n",
       "      <th>学历要求_本科</th>\n",
       "      <th>学历要求_硕士</th>\n",
       "      <th>工作经验_1-3年</th>\n",
       "      <th>工作经验_1年以下</th>\n",
       "      <th>工作经验_3-5年</th>\n",
       "      <th>工作经验_5-10年</th>\n",
       "      <th>工作经验_不限</th>\n",
       "      <th>工作经验_应届毕业生</th>\n",
       "    </tr>\n",
       "  </thead>\n",
       "  <tbody>\n",
       "    <tr>\n",
       "      <th>0</th>\n",
       "      <td>0</td>\n",
       "      <td>1</td>\n",
       "      <td>0</td>\n",
       "      <td>0</td>\n",
       "      <td>0</td>\n",
       "      <td>0</td>\n",
       "      <td>1</td>\n",
       "      <td>0</td>\n",
       "      <td>0</td>\n",
       "      <td>0</td>\n",
       "    </tr>\n",
       "    <tr>\n",
       "      <th>1</th>\n",
       "      <td>0</td>\n",
       "      <td>0</td>\n",
       "      <td>1</td>\n",
       "      <td>0</td>\n",
       "      <td>0</td>\n",
       "      <td>0</td>\n",
       "      <td>1</td>\n",
       "      <td>0</td>\n",
       "      <td>0</td>\n",
       "      <td>0</td>\n",
       "    </tr>\n",
       "    <tr>\n",
       "      <th>2</th>\n",
       "      <td>0</td>\n",
       "      <td>0</td>\n",
       "      <td>1</td>\n",
       "      <td>0</td>\n",
       "      <td>0</td>\n",
       "      <td>0</td>\n",
       "      <td>0</td>\n",
       "      <td>0</td>\n",
       "      <td>1</td>\n",
       "      <td>0</td>\n",
       "    </tr>\n",
       "    <tr>\n",
       "      <th>3</th>\n",
       "      <td>0</td>\n",
       "      <td>0</td>\n",
       "      <td>1</td>\n",
       "      <td>0</td>\n",
       "      <td>0</td>\n",
       "      <td>0</td>\n",
       "      <td>0</td>\n",
       "      <td>1</td>\n",
       "      <td>0</td>\n",
       "      <td>0</td>\n",
       "    </tr>\n",
       "    <tr>\n",
       "      <th>4</th>\n",
       "      <td>0</td>\n",
       "      <td>0</td>\n",
       "      <td>1</td>\n",
       "      <td>0</td>\n",
       "      <td>0</td>\n",
       "      <td>0</td>\n",
       "      <td>1</td>\n",
       "      <td>0</td>\n",
       "      <td>0</td>\n",
       "      <td>0</td>\n",
       "    </tr>\n",
       "  </tbody>\n",
       "</table>\n",
       "</div>"
      ],
      "text/plain": [
       "   学历要求_不限  学历要求_大专  学历要求_本科  学历要求_硕士  工作经验_1-3年  工作经验_1年以下  工作经验_3-5年  \\\n",
       "0        0        1        0        0          0          0          1   \n",
       "1        0        0        1        0          0          0          1   \n",
       "2        0        0        1        0          0          0          0   \n",
       "3        0        0        1        0          0          0          0   \n",
       "4        0        0        1        0          0          0          1   \n",
       "\n",
       "   工作经验_5-10年  工作经验_不限  工作经验_应届毕业生  \n",
       "0           0        0           0  \n",
       "1           0        0           0  \n",
       "2           0        1           0  \n",
       "3           1        0           0  \n",
       "4           0        0           0  "
      ]
     },
     "execution_count": 5,
     "metadata": {},
     "output_type": "execute_result"
    }
   ],
   "source": [
    "dummied_data = pd.get_dummies(data)\n",
    "dummied_data.head()"
   ]
  },
  {
   "cell_type": "markdown",
   "metadata": {},
   "source": [
    "上次可视化分析的时候就已经知道数据集中不存在缺失值了，为了走一下流程并确保正确性，再次看一下是否有缺失值。"
   ]
  },
  {
   "cell_type": "code",
   "execution_count": 6,
   "metadata": {},
   "outputs": [
    {
     "data": {
      "text/plain": [
       "工作经验_应届毕业生    0\n",
       "工作经验_不限       0\n",
       "工作经验_5-10年    0\n",
       "工作经验_3-5年     0\n",
       "工作经验_1年以下     0\n",
       "工作经验_1-3年     0\n",
       "学历要求_硕士       0\n",
       "学历要求_本科       0\n",
       "学历要求_大专       0\n",
       "学历要求_不限       0\n",
       "dtype: int64"
      ]
     },
     "execution_count": 6,
     "metadata": {},
     "output_type": "execute_result"
    }
   ],
   "source": [
    "dummied_data.isnull().sum().sort_values(ascending=False).head(10)"
   ]
  },
  {
   "cell_type": "markdown",
   "metadata": {},
   "source": [
    "OK，很好，没有缺失值。这些值比较简单，不需要做那么多工作。"
   ]
  },
  {
   "cell_type": "markdown",
   "metadata": {},
   "source": [
    "<h2>3、建立模型</h2>\n",
    "\n",
    "<h4>DecisionTree</h4>"
   ]
  },
  {
   "cell_type": "code",
   "execution_count": 7,
   "metadata": {},
   "outputs": [
    {
     "data": {
      "text/plain": [
       "(450, 24)"
      ]
     },
     "execution_count": 7,
     "metadata": {},
     "output_type": "execute_result"
    }
   ],
   "source": [
    "X_train = dummied_data[:train_data.shape[0]].values\n",
    "X_test = dummied_data[-test_data.shape[0]:].values\n",
    "len(X_train), len(X_test)"
   ]
  },
  {
   "cell_type": "code",
   "execution_count": 8,
   "metadata": {},
   "outputs": [],
   "source": [
    "from sklearn.tree import DecisionTreeClassifier\n",
    "from sklearn.model_selection import cross_val_score"
   ]
  },
  {
   "cell_type": "code",
   "execution_count": 9,
   "metadata": {},
   "outputs": [
    {
     "data": {
      "text/plain": [
       "[<matplotlib.lines.Line2D at 0xd6ef9b0>]"
      ]
     },
     "execution_count": 9,
     "metadata": {},
     "output_type": "execute_result"
    },
    {
     "data": {
      "image/png": "[encoded data removed]",
      "text/plain": [
       "<Figure size 432x288 with 1 Axes>"
      ]
     },
     "metadata": {},
     "output_type": "display_data"
    }
   ],
   "source": [
    "features_scores = []\n",
    "max_features = [.1, .2, .3, .4, .5, .6, .7, .8, .9]\n",
    "for max_feature in max_features:\n",
    "    clf = DecisionTreeClassifier(max_features=max_feature)\n",
    "    features_score = cross_val_score(clf, X_train, y_train, cv=5)\n",
    "    features_scores.append(np.mean(features_score))\n",
    "plt.plot(max_features, features_scores)"
   ]
  },
  {
   "cell_type": "markdown",
   "metadata": {},
   "source": [
    "可见当 max_features = 0.2 时达到最大，大概有0.5418\n"
   ]
  },
  {
   "cell_type": "code",
   "execution_count": 10,
   "metadata": {},
   "outputs": [],
   "source": [
    "dtc = DecisionTreeClassifier(max_features=0.2)"
   ]
  },
  {
   "cell_type": "markdown",
   "metadata": {},
   "source": [
    "<h3>ensemble（集成算法）</h3>\n",
    "\n",
    "集成学习简单理解就是指采用多个分类器对数据集进行预测，从而提高整体分类器的泛化能力。\n",
    "    \n",
    "<h4>AdaBoostClassifier</h4>\n",
    "\n",
    "adaptive boosting: 通过改变训练样本的权值，学习多个分类器，并将这些分类器进行线性组合，提高泛化性能。"
   ]
  },
  {
   "cell_type": "code",
   "execution_count": 11,
   "metadata": {},
   "outputs": [],
   "source": [
    "from sklearn.ensemble import AdaBoostClassifier"
   ]
  },
  {
   "cell_type": "code",
   "execution_count": 12,
   "metadata": {},
   "outputs": [
    {
     "data": {
      "text/plain": [
       "[<matplotlib.lines.Line2D at 0xd806450>]"
      ]
     },
     "execution_count": 12,
     "metadata": {},
     "output_type": "execute_result"
    },
    {
     "data": {
      "image/png": "[encoded data removed]",
      "text/plain": [
       "<Figure size 432x288 with 1 Axes>"
      ]
     },
     "metadata": {},
     "output_type": "display_data"
    }
   ],
   "source": [
    "n_scores = []\n",
    "estimator_nums = [5, 10, 15, 20, 25, 30, 35, 40]\n",
    "for estimator_num in estimator_nums:\n",
    "    clf = AdaBoostClassifier(n_estimators=estimator_num, base_estimator=dtc)\n",
    "    n_score = cross_val_score(clf, X_train, y_train, cv=5)\n",
    "    n_scores.append(np.mean(n_score))\n",
    "plt.plot(estimator_nums, n_scores)"
   ]
  },
  {
   "cell_type": "markdown",
   "metadata": {},
   "source": [
    "当 estimators=20 的时候，score最高，大概有0.544，虽然跟单个决策树的 score 的值相差不大，但总体还是有所提升。"
   ]
  },
  {
   "cell_type": "code",
   "execution_count": 13,
   "metadata": {},
   "outputs": [],
   "source": [
    "abc = AdaBoostClassifier(n_estimators=20)"
   ]
  },
  {
   "cell_type": "code",
   "execution_count": 14,
   "metadata": {},
   "outputs": [
    {
     "data": {
      "text/plain": [
       "DecisionTreeClassifier(class_weight=None, criterion='gini', max_depth=None,\n",
       "            max_features=0.2, max_leaf_nodes=None,\n",
       "            min_impurity_decrease=0.0, min_impurity_split=None,\n",
       "            min_samples_leaf=1, min_samples_split=2,\n",
       "            min_weight_fraction_leaf=0.0, presort=False, random_state=None,\n",
       "            splitter='best')"
      ]
     },
     "execution_count": 14,
     "metadata": {},
     "output_type": "execute_result"
    }
   ],
   "source": [
    "abc.fit(X_train, y_train)\n",
    "dtc.fit(X_train, y_train)"
   ]
  },
  {
   "cell_type": "code",
   "execution_count": 15,
   "metadata": {},
   "outputs": [],
   "source": [
    "y_dtc = dtc.predict(X_test)\n",
    "y_abc = abc.predict(X_test)"
   ]
  },
  {
   "cell_type": "code",
   "execution_count": 16,
   "metadata": {},
   "outputs": [
    {
     "data": {
      "text/html": [
       "<div>\n",
       "<style scoped>\n",
       "    .dataframe tbody tr th:only-of-type {\n",
       "        vertical-align: middle;\n",
       "    }\n",
       "\n",
       "    .dataframe tbody tr th {\n",
       "        vertical-align: top;\n",
       "    }\n",
       "\n",
       "    .dataframe thead th {\n",
       "        text-align: right;\n",
       "    }\n",
       "</style>\n",
       "<table border=\"1\" class=\"dataframe\">\n",
       "  <thead>\n",
       "    <tr style=\"text-align: right;\">\n",
       "      <th></th>\n",
       "      <th>学历要求</th>\n",
       "      <th>工作经验</th>\n",
       "      <th>薪资(单个决策树)</th>\n",
       "      <th>薪资(boosting)</th>\n",
       "    </tr>\n",
       "  </thead>\n",
       "  <tbody>\n",
       "    <tr>\n",
       "      <th>0</th>\n",
       "      <td>本科</td>\n",
       "      <td>1-3年</td>\n",
       "      <td>10k-20k</td>\n",
       "      <td>10k-20k</td>\n",
       "    </tr>\n",
       "    <tr>\n",
       "      <th>1</th>\n",
       "      <td>本科</td>\n",
       "      <td>3-5年</td>\n",
       "      <td>20k-30k</td>\n",
       "      <td>20k-30k</td>\n",
       "    </tr>\n",
       "    <tr>\n",
       "      <th>2</th>\n",
       "      <td>本科</td>\n",
       "      <td>5-10年</td>\n",
       "      <td>30k-40k</td>\n",
       "      <td>20k-30k</td>\n",
       "    </tr>\n",
       "    <tr>\n",
       "      <th>3</th>\n",
       "      <td>本科</td>\n",
       "      <td>应届毕业生</td>\n",
       "      <td>10k-20k</td>\n",
       "      <td>10k-20k</td>\n",
       "    </tr>\n",
       "    <tr>\n",
       "      <th>4</th>\n",
       "      <td>本科</td>\n",
       "      <td>不限</td>\n",
       "      <td>10k-20k</td>\n",
       "      <td>10k-20k</td>\n",
       "    </tr>\n",
       "    <tr>\n",
       "      <th>5</th>\n",
       "      <td>本科</td>\n",
       "      <td>1年以下</td>\n",
       "      <td>10k-20k</td>\n",
       "      <td>10k-20k</td>\n",
       "    </tr>\n",
       "    <tr>\n",
       "      <th>6</th>\n",
       "      <td>大专</td>\n",
       "      <td>1-3年</td>\n",
       "      <td>5k-10k</td>\n",
       "      <td>5k-10k</td>\n",
       "    </tr>\n",
       "    <tr>\n",
       "      <th>7</th>\n",
       "      <td>大专</td>\n",
       "      <td>3-5年</td>\n",
       "      <td>10k-20k</td>\n",
       "      <td>10k-20k</td>\n",
       "    </tr>\n",
       "    <tr>\n",
       "      <th>8</th>\n",
       "      <td>大专</td>\n",
       "      <td>5-10年</td>\n",
       "      <td>30k-40k</td>\n",
       "      <td>10k-20k</td>\n",
       "    </tr>\n",
       "    <tr>\n",
       "      <th>9</th>\n",
       "      <td>大专</td>\n",
       "      <td>应届毕业生</td>\n",
       "      <td>10k-20k</td>\n",
       "      <td>5k-10k</td>\n",
       "    </tr>\n",
       "    <tr>\n",
       "      <th>10</th>\n",
       "      <td>大专</td>\n",
       "      <td>不限</td>\n",
       "      <td>5k-10k</td>\n",
       "      <td>5k-10k</td>\n",
       "    </tr>\n",
       "    <tr>\n",
       "      <th>11</th>\n",
       "      <td>大专</td>\n",
       "      <td>1年以下</td>\n",
       "      <td>10k-20k</td>\n",
       "      <td>5k-10k</td>\n",
       "    </tr>\n",
       "    <tr>\n",
       "      <th>12</th>\n",
       "      <td>不限</td>\n",
       "      <td>1-3年</td>\n",
       "      <td>10k-20k</td>\n",
       "      <td>10k-20k</td>\n",
       "    </tr>\n",
       "    <tr>\n",
       "      <th>13</th>\n",
       "      <td>不限</td>\n",
       "      <td>3-5年</td>\n",
       "      <td>20k-30k</td>\n",
       "      <td>20k-30k</td>\n",
       "    </tr>\n",
       "    <tr>\n",
       "      <th>14</th>\n",
       "      <td>不限</td>\n",
       "      <td>5-10年</td>\n",
       "      <td>30k-40k</td>\n",
       "      <td>20k-30k</td>\n",
       "    </tr>\n",
       "    <tr>\n",
       "      <th>15</th>\n",
       "      <td>不限</td>\n",
       "      <td>应届毕业生</td>\n",
       "      <td>10k-20k</td>\n",
       "      <td>10k-20k</td>\n",
       "    </tr>\n",
       "    <tr>\n",
       "      <th>16</th>\n",
       "      <td>不限</td>\n",
       "      <td>不限</td>\n",
       "      <td>20k-30k</td>\n",
       "      <td>10k-20k</td>\n",
       "    </tr>\n",
       "    <tr>\n",
       "      <th>17</th>\n",
       "      <td>不限</td>\n",
       "      <td>1年以下</td>\n",
       "      <td>10k-20k</td>\n",
       "      <td>10k-20k</td>\n",
       "    </tr>\n",
       "    <tr>\n",
       "      <th>18</th>\n",
       "      <td>硕士</td>\n",
       "      <td>1-3年</td>\n",
       "      <td>20k-30k</td>\n",
       "      <td>20k-30k</td>\n",
       "    </tr>\n",
       "    <tr>\n",
       "      <th>19</th>\n",
       "      <td>硕士</td>\n",
       "      <td>3-5年</td>\n",
       "      <td>20k-30k</td>\n",
       "      <td>20k-30k</td>\n",
       "    </tr>\n",
       "    <tr>\n",
       "      <th>20</th>\n",
       "      <td>硕士</td>\n",
       "      <td>5-10年</td>\n",
       "      <td>30k-40k</td>\n",
       "      <td>20k-30k</td>\n",
       "    </tr>\n",
       "    <tr>\n",
       "      <th>21</th>\n",
       "      <td>硕士</td>\n",
       "      <td>应届毕业生</td>\n",
       "      <td>10k-20k</td>\n",
       "      <td>20k-30k</td>\n",
       "    </tr>\n",
       "    <tr>\n",
       "      <th>22</th>\n",
       "      <td>硕士</td>\n",
       "      <td>不限</td>\n",
       "      <td>10k-20k</td>\n",
       "      <td>20k-30k</td>\n",
       "    </tr>\n",
       "    <tr>\n",
       "      <th>23</th>\n",
       "      <td>硕士</td>\n",
       "      <td>1年以下</td>\n",
       "      <td>10k-20k</td>\n",
       "      <td>10k-20k</td>\n",
       "    </tr>\n",
       "  </tbody>\n",
       "</table>\n",
       "</div>"
      ],
      "text/plain": [
       "   学历要求   工作经验 薪资(单个决策树) 薪资(boosting)\n",
       "0    本科   1-3年   10k-20k      10k-20k\n",
       "1    本科   3-5年   20k-30k      20k-30k\n",
       "2    本科  5-10年   30k-40k      20k-30k\n",
       "3    本科  应届毕业生   10k-20k      10k-20k\n",
       "4    本科     不限   10k-20k      10k-20k\n",
       "5    本科   1年以下   10k-20k      10k-20k\n",
       "6    大专   1-3年    5k-10k       5k-10k\n",
       "7    大专   3-5年   10k-20k      10k-20k\n",
       "8    大专  5-10年   30k-40k      10k-20k\n",
       "9    大专  应届毕业生   10k-20k       5k-10k\n",
       "10   大专     不限    5k-10k       5k-10k\n",
       "11   大专   1年以下   10k-20k       5k-10k\n",
       "12   不限   1-3年   10k-20k      10k-20k\n",
       "13   不限   3-5年   20k-30k      20k-30k\n",
       "14   不限  5-10年   30k-40k      20k-30k\n",
       "15   不限  应届毕业生   10k-20k      10k-20k\n",
       "16   不限     不限   20k-30k      10k-20k\n",
       "17   不限   1年以下   10k-20k      10k-20k\n",
       "18   硕士   1-3年   20k-30k      20k-30k\n",
       "19   硕士   3-5年   20k-30k      20k-30k\n",
       "20   硕士  5-10年   30k-40k      20k-30k\n",
       "21   硕士  应届毕业生   10k-20k      20k-30k\n",
       "22   硕士     不限   10k-20k      20k-30k\n",
       "23   硕士   1年以下   10k-20k      10k-20k"
      ]
     },
     "execution_count": 16,
     "metadata": {},
     "output_type": "execute_result"
    }
   ],
   "source": [
    "test_data['薪资(单个决策树)'] = y_dtc\n",
    "test_data['薪资(boosting)'] = y_abc\n",
    "test_data"
   ]
  }
 ],
 "metadata": {
  "kernelspec": {
   "display_name": "Python 3",
   "language": "python",
   "name": "python3"
  },
  "language_info": {
   "codemirror_mode": {
    "name": "ipython",
    "version": 3
   },
   "file_extension": ".py",
   "mimetype": "text/x-python",
   "name": "python",
   "nbconvert_exporter": "python",
   "pygments_lexer": "ipython3",
   "version": "3.6.4"
  }
 },
 "nbformat": 4,
 "nbformat_minor": 2
}
